{
  "cells": [
    {
      "cell_type": "markdown",
      "id": "25d7736c-ba17-4aff-b6bb-66eba20fbf4e",
      "metadata": {
        "id": "25d7736c-ba17-4aff-b6bb-66eba20fbf4e"
      },
      "source": [
        "# Lab | Data Cleaning and Formatting"
      ]
    },
    {
      "cell_type": "markdown",
      "id": "d1973e9e-8be6-4039-b70e-d73ee0d94c99",
      "metadata": {
        "id": "d1973e9e-8be6-4039-b70e-d73ee0d94c99"
      },
      "source": [
        "In this lab, we will be working with the customer data from an insurance company, which can be found in the CSV file located at the following link: https://raw.githubusercontent.com/data-bootcamp-v4/data/main/file1.csv\n"
      ]
    },
    {
      "cell_type": "markdown",
      "id": "31b8a9e7-7db9-4604-991b-ef6771603e57",
      "metadata": {
        "id": "31b8a9e7-7db9-4604-991b-ef6771603e57"
      },
      "source": [
        "# Challenge 1: Data Cleaning and Formatting"
      ]
    },
    {
      "cell_type": "markdown",
      "id": "81553f19-9f2c-484b-8940-520aff884022",
      "metadata": {
        "id": "81553f19-9f2c-484b-8940-520aff884022"
      },
      "source": [
        "## Exercise 1: Cleaning Column Names"
      ]
    },
    {
      "cell_type": "markdown",
      "id": "34a929f4-1be4-4fa8-adda-42ffd920be90",
      "metadata": {
        "id": "34a929f4-1be4-4fa8-adda-42ffd920be90"
      },
      "source": [
        "To ensure consistency and ease of use, standardize the column names of the dataframe. Start by taking a first look at the dataframe and identifying any column names that need to be modified. Use appropriate naming conventions and make sure that column names are descriptive and informative.\n",
        "*Hint*:\n",
        "- *Column names should be in lower case*\n",
        "- *White spaces in column names should be replaced by `_`*\n",
        "- *`st` could be replaced for `state`*"
      ]
    },
    {
      "cell_type": "code",
      "execution_count": 1,
      "id": "5810735c-8056-4442-bbf2-dda38d3e284a",
      "metadata": {
        "id": "5810735c-8056-4442-bbf2-dda38d3e284a"
      },
      "outputs": [
        {
          "data": {
            "text/html": [
              "<div>\n",
              "<style scoped>\n",
              "    .dataframe tbody tr th:only-of-type {\n",
              "        vertical-align: middle;\n",
              "    }\n",
              "\n",
              "    .dataframe tbody tr th {\n",
              "        vertical-align: top;\n",
              "    }\n",
              "\n",
              "    .dataframe thead th {\n",
              "        text-align: right;\n",
              "    }\n",
              "</style>\n",
              "<table border=\"1\" class=\"dataframe\">\n",
              "  <thead>\n",
              "    <tr style=\"text-align: right;\">\n",
              "      <th></th>\n",
              "      <th>customer</th>\n",
              "      <th>state</th>\n",
              "      <th>gender</th>\n",
              "      <th>education</th>\n",
              "      <th>customer_lifetime_value</th>\n",
              "      <th>income</th>\n",
              "      <th>monthly_premium_auto</th>\n",
              "      <th>number_of_open_complaints</th>\n",
              "      <th>policy_type</th>\n",
              "      <th>vehicle_class</th>\n",
              "      <th>total_claim_amount</th>\n",
              "    </tr>\n",
              "  </thead>\n",
              "  <tbody>\n",
              "    <tr>\n",
              "      <th>0</th>\n",
              "      <td>RB50392</td>\n",
              "      <td>Washington</td>\n",
              "      <td>NaN</td>\n",
              "      <td>Master</td>\n",
              "      <td>NaN</td>\n",
              "      <td>0.0</td>\n",
              "      <td>1000.0</td>\n",
              "      <td>1/0/00</td>\n",
              "      <td>Personal Auto</td>\n",
              "      <td>Four-Door Car</td>\n",
              "      <td>2.704934</td>\n",
              "    </tr>\n",
              "    <tr>\n",
              "      <th>1</th>\n",
              "      <td>QZ44356</td>\n",
              "      <td>Arizona</td>\n",
              "      <td>F</td>\n",
              "      <td>Bachelor</td>\n",
              "      <td>697953.59%</td>\n",
              "      <td>0.0</td>\n",
              "      <td>94.0</td>\n",
              "      <td>1/0/00</td>\n",
              "      <td>Personal Auto</td>\n",
              "      <td>Four-Door Car</td>\n",
              "      <td>1131.464935</td>\n",
              "    </tr>\n",
              "    <tr>\n",
              "      <th>2</th>\n",
              "      <td>AI49188</td>\n",
              "      <td>Nevada</td>\n",
              "      <td>F</td>\n",
              "      <td>Bachelor</td>\n",
              "      <td>1288743.17%</td>\n",
              "      <td>48767.0</td>\n",
              "      <td>108.0</td>\n",
              "      <td>1/0/00</td>\n",
              "      <td>Personal Auto</td>\n",
              "      <td>Two-Door Car</td>\n",
              "      <td>566.472247</td>\n",
              "    </tr>\n",
              "    <tr>\n",
              "      <th>3</th>\n",
              "      <td>WW63253</td>\n",
              "      <td>California</td>\n",
              "      <td>M</td>\n",
              "      <td>Bachelor</td>\n",
              "      <td>764586.18%</td>\n",
              "      <td>0.0</td>\n",
              "      <td>106.0</td>\n",
              "      <td>1/0/00</td>\n",
              "      <td>Corporate Auto</td>\n",
              "      <td>SUV</td>\n",
              "      <td>529.881344</td>\n",
              "    </tr>\n",
              "    <tr>\n",
              "      <th>4</th>\n",
              "      <td>GA49547</td>\n",
              "      <td>Washington</td>\n",
              "      <td>M</td>\n",
              "      <td>High School or Below</td>\n",
              "      <td>536307.65%</td>\n",
              "      <td>36357.0</td>\n",
              "      <td>68.0</td>\n",
              "      <td>1/0/00</td>\n",
              "      <td>Personal Auto</td>\n",
              "      <td>Four-Door Car</td>\n",
              "      <td>17.269323</td>\n",
              "    </tr>\n",
              "  </tbody>\n",
              "</table>\n",
              "</div>"
            ],
            "text/plain": [
              "  customer       state gender             education customer_lifetime_value  \\\n",
              "0  RB50392  Washington    NaN                Master                     NaN   \n",
              "1  QZ44356     Arizona      F              Bachelor              697953.59%   \n",
              "2  AI49188      Nevada      F              Bachelor             1288743.17%   \n",
              "3  WW63253  California      M              Bachelor              764586.18%   \n",
              "4  GA49547  Washington      M  High School or Below              536307.65%   \n",
              "\n",
              "    income  monthly_premium_auto number_of_open_complaints     policy_type  \\\n",
              "0      0.0                1000.0                    1/0/00   Personal Auto   \n",
              "1      0.0                  94.0                    1/0/00   Personal Auto   \n",
              "2  48767.0                 108.0                    1/0/00   Personal Auto   \n",
              "3      0.0                 106.0                    1/0/00  Corporate Auto   \n",
              "4  36357.0                  68.0                    1/0/00   Personal Auto   \n",
              "\n",
              "   vehicle_class  total_claim_amount  \n",
              "0  Four-Door Car            2.704934  \n",
              "1  Four-Door Car         1131.464935  \n",
              "2   Two-Door Car          566.472247  \n",
              "3            SUV          529.881344  \n",
              "4  Four-Door Car           17.269323  "
            ]
          },
          "execution_count": 1,
          "metadata": {},
          "output_type": "execute_result"
        }
      ],
      "source": [
        "import pandas as pd\n",
        "\n",
        "df = pd.read_csv('data/raw/file1.csv')\n",
        "\n",
        "# To ensure consistency and ease of use, standardize the column names of the dataframe. \n",
        "df.columns = df.columns.str.strip().str.lower().str.replace(' ', '_')\n",
        "\n",
        "# Column `st` could be replaced for `state`\n",
        "df.rename(columns={'st': 'state'}, inplace=True)\n",
        "\n",
        "df.head() "
      ]
    },
    {
      "cell_type": "markdown",
      "id": "9cb501ec-36ff-4589-b872-6252bb150316",
      "metadata": {
        "id": "9cb501ec-36ff-4589-b872-6252bb150316"
      },
      "source": [
        "## Exercise 2: Cleaning invalid Values"
      ]
    },
    {
      "cell_type": "markdown",
      "id": "771fdcf3-8e20-4b06-9c24-3a93ba2b0909",
      "metadata": {
        "id": "771fdcf3-8e20-4b06-9c24-3a93ba2b0909"
      },
      "source": [
        "The dataset contains columns with inconsistent and incorrect values that could affect the accuracy of our analysis. Therefore, we need to clean these columns to ensure that they only contain valid data.\n",
        "\n",
        "Note that this exercise will focus only on cleaning inconsistent values and will not involve handling null values (NaN or None).\n",
        "\n",
        "*Hint*:\n",
        "- *Gender column contains various inconsistent values such as \"F\", \"M\", \"Femal\", \"Male\", \"female\", which need to be standardized, for example, to \"M\" and \"F\".*\n",
        "- *State abbreviations be can replaced with its full name, for example \"AZ\": \"Arizona\", \"Cali\": \"California\", \"WA\": \"Washington\"*\n",
        "- *In education, \"Bachelors\" could be replaced by \"Bachelor\"*\n",
        "- *In Customer Lifetime Value, delete the `%` character*\n",
        "- *In vehicle class, \"Sports Car\", \"Luxury SUV\" and \"Luxury Car\" could be replaced by \"Luxury\"*"
      ]
    },
    {
      "cell_type": "code",
      "execution_count": 2,
      "id": "3f8ee5cb-50ab-48af-8a9f-9a389804033c",
      "metadata": {
        "id": "3f8ee5cb-50ab-48af-8a9f-9a389804033c"
      },
      "outputs": [
        {
          "data": {
            "text/html": [
              "<div>\n",
              "<style scoped>\n",
              "    .dataframe tbody tr th:only-of-type {\n",
              "        vertical-align: middle;\n",
              "    }\n",
              "\n",
              "    .dataframe tbody tr th {\n",
              "        vertical-align: top;\n",
              "    }\n",
              "\n",
              "    .dataframe thead th {\n",
              "        text-align: right;\n",
              "    }\n",
              "</style>\n",
              "<table border=\"1\" class=\"dataframe\">\n",
              "  <thead>\n",
              "    <tr style=\"text-align: right;\">\n",
              "      <th></th>\n",
              "      <th>customer</th>\n",
              "      <th>state</th>\n",
              "      <th>gender</th>\n",
              "      <th>education</th>\n",
              "      <th>customer_lifetime_value</th>\n",
              "      <th>income</th>\n",
              "      <th>monthly_premium_auto</th>\n",
              "      <th>number_of_open_complaints</th>\n",
              "      <th>policy_type</th>\n",
              "      <th>vehicle_class</th>\n",
              "      <th>total_claim_amount</th>\n",
              "    </tr>\n",
              "  </thead>\n",
              "  <tbody>\n",
              "    <tr>\n",
              "      <th>0</th>\n",
              "      <td>RB50392</td>\n",
              "      <td>Washington</td>\n",
              "      <td>NaN</td>\n",
              "      <td>Master</td>\n",
              "      <td>NaN</td>\n",
              "      <td>0.0</td>\n",
              "      <td>1000.0</td>\n",
              "      <td>1/0/00</td>\n",
              "      <td>Personal Auto</td>\n",
              "      <td>Four-Door Car</td>\n",
              "      <td>2.704934</td>\n",
              "    </tr>\n",
              "    <tr>\n",
              "      <th>1</th>\n",
              "      <td>QZ44356</td>\n",
              "      <td>Arizona</td>\n",
              "      <td>F</td>\n",
              "      <td>Bachelor</td>\n",
              "      <td>697953.59</td>\n",
              "      <td>0.0</td>\n",
              "      <td>94.0</td>\n",
              "      <td>1/0/00</td>\n",
              "      <td>Personal Auto</td>\n",
              "      <td>Four-Door Car</td>\n",
              "      <td>1131.464935</td>\n",
              "    </tr>\n",
              "    <tr>\n",
              "      <th>2</th>\n",
              "      <td>AI49188</td>\n",
              "      <td>Nevada</td>\n",
              "      <td>F</td>\n",
              "      <td>Bachelor</td>\n",
              "      <td>1288743.17</td>\n",
              "      <td>48767.0</td>\n",
              "      <td>108.0</td>\n",
              "      <td>1/0/00</td>\n",
              "      <td>Personal Auto</td>\n",
              "      <td>Two-Door Car</td>\n",
              "      <td>566.472247</td>\n",
              "    </tr>\n",
              "    <tr>\n",
              "      <th>3</th>\n",
              "      <td>WW63253</td>\n",
              "      <td>California</td>\n",
              "      <td>M</td>\n",
              "      <td>Bachelor</td>\n",
              "      <td>764586.18</td>\n",
              "      <td>0.0</td>\n",
              "      <td>106.0</td>\n",
              "      <td>1/0/00</td>\n",
              "      <td>Corporate Auto</td>\n",
              "      <td>SUV</td>\n",
              "      <td>529.881344</td>\n",
              "    </tr>\n",
              "    <tr>\n",
              "      <th>4</th>\n",
              "      <td>GA49547</td>\n",
              "      <td>Washington</td>\n",
              "      <td>M</td>\n",
              "      <td>High School or Below</td>\n",
              "      <td>536307.65</td>\n",
              "      <td>36357.0</td>\n",
              "      <td>68.0</td>\n",
              "      <td>1/0/00</td>\n",
              "      <td>Personal Auto</td>\n",
              "      <td>Four-Door Car</td>\n",
              "      <td>17.269323</td>\n",
              "    </tr>\n",
              "  </tbody>\n",
              "</table>\n",
              "</div>"
            ],
            "text/plain": [
              "  customer       state gender             education customer_lifetime_value  \\\n",
              "0  RB50392  Washington    NaN                Master                     NaN   \n",
              "1  QZ44356     Arizona      F              Bachelor               697953.59   \n",
              "2  AI49188      Nevada      F              Bachelor              1288743.17   \n",
              "3  WW63253  California      M              Bachelor               764586.18   \n",
              "4  GA49547  Washington      M  High School or Below               536307.65   \n",
              "\n",
              "    income  monthly_premium_auto number_of_open_complaints     policy_type  \\\n",
              "0      0.0                1000.0                    1/0/00   Personal Auto   \n",
              "1      0.0                  94.0                    1/0/00   Personal Auto   \n",
              "2  48767.0                 108.0                    1/0/00   Personal Auto   \n",
              "3      0.0                 106.0                    1/0/00  Corporate Auto   \n",
              "4  36357.0                  68.0                    1/0/00   Personal Auto   \n",
              "\n",
              "   vehicle_class  total_claim_amount  \n",
              "0  Four-Door Car            2.704934  \n",
              "1  Four-Door Car         1131.464935  \n",
              "2   Two-Door Car          566.472247  \n",
              "3            SUV          529.881344  \n",
              "4  Four-Door Car           17.269323  "
            ]
          },
          "execution_count": 2,
          "metadata": {},
          "output_type": "execute_result"
        }
      ],
      "source": [
        "# 1. Gender column contains various inconsistent values such as \"F\", \"M\", \"Femal\", \"Male\", \"female\", which need to be standardized, for example, to \"M\" and \"F\".\n",
        "\n",
        "# import clean_gender function from functions.py\n",
        "from functions import clean_gender\n",
        "\n",
        "# Apply the function to the gender column\n",
        "df['gender'] = df['gender'].apply(clean_gender)\n",
        "\n",
        "# df['gender'].unique()\n",
        "\n",
        "# 2. State abbreviations be can replaced with its full name, for example \"AZ\": \"Arizona\", \"Cali\": \"California\", \"WA\": \"Washington\"\n",
        "# Dictionary to map state abbreviations to full names\n",
        "state_mapping = {\n",
        "    'AZ': 'Arizona',\n",
        "    'Cali': 'California',\n",
        "    'WA': 'Washington',\n",
        "    'OR': 'Oregon',\n",
        "    'NV': 'Nevada'\n",
        "}\n",
        "\n",
        "# Replace state abbreviations with full names\n",
        "df['state'] = df['state'].replace(state_mapping)\n",
        "\n",
        "# df['state'].unique()\n",
        "\n",
        "# 3. In education, \"Bachelors\" could be replaced by \"Bachelor\"\n",
        "df['education'] = df['education'].replace('Bachelors', 'Bachelor')\n",
        "\n",
        "# 4. In Customer Lifetime Value, delete the `%` character\n",
        "df['customer_lifetime_value'] = df['customer_lifetime_value'].str.replace('%', '')\n",
        "\n",
        "# 5. In vehicle class, \"Sports Car\", \"Luxury SUV\" and \"Luxury Car\" could be replaced by \"Luxury\"\n",
        "df['vehicle_class'] = df['vehicle_class'].replace(['Sports Car', 'Luxury SUV', 'Luxury Car'], 'Luxury')\n",
        "\n",
        "df.head()\n"
      ]
    },
    {
      "cell_type": "markdown",
      "id": "85ff78ce-0174-4890-9db3-8048b7d7d2d0",
      "metadata": {
        "id": "85ff78ce-0174-4890-9db3-8048b7d7d2d0"
      },
      "source": [
        "## Exercise 3: Formatting data types"
      ]
    },
    {
      "cell_type": "markdown",
      "id": "b91c2cf8-79a2-4baf-9f65-ff2fb22270bd",
      "metadata": {
        "id": "b91c2cf8-79a2-4baf-9f65-ff2fb22270bd"
      },
      "source": [
        "The data types of many columns in the dataset appear to be incorrect. This could impact the accuracy of our analysis. To ensure accurate analysis, we need to correct the data types of these columns. Please update the data types of the columns as appropriate."
      ]
    },
    {
      "cell_type": "markdown",
      "id": "43e5d853-ff9e-43b2-9d92-aef2f78764f3",
      "metadata": {
        "id": "43e5d853-ff9e-43b2-9d92-aef2f78764f3"
      },
      "source": [
        "It is important to note that this exercise does not involve handling null values (NaN or None)."
      ]
    },
    {
      "cell_type": "markdown",
      "id": "329ca691-9196-4419-8969-3596746237a1",
      "metadata": {
        "id": "329ca691-9196-4419-8969-3596746237a1"
      },
      "source": [
        "*Hint*:\n",
        "- *Customer lifetime value should be numeric*\n",
        "- *Number of open complaints has an incorrect format. Look at the different values it takes with `unique()` and take the middle value. As an example, 1/5/00 should be 5. Number of open complaints is a string - remember you can use `split()` to deal with it and take the number you need. Finally, since it should be numeric, cast the column to be in its proper type.*"
      ]
    },
    {
      "cell_type": "code",
      "execution_count": 3,
      "id": "eb8f5991-73e9-405f-bf1c-6b7c589379a9",
      "metadata": {
        "id": "eb8f5991-73e9-405f-bf1c-6b7c589379a9"
      },
      "outputs": [
        {
          "data": {
            "text/plain": [
              "array(['1/0/00', '1/2/00', '1/1/00', '1/3/00', '1/5/00', '1/4/00', nan],\n",
              "      dtype=object)"
            ]
          },
          "execution_count": 3,
          "metadata": {},
          "output_type": "execute_result"
        }
      ],
      "source": [
        "# Show column types\n",
        "df.dtypes\n",
        "\n",
        "# 1. Convert `customer_lifetime_value` to numeric\n",
        "df['customer_lifetime_value'] = pd.to_numeric(df['customer_lifetime_value'], errors='coerce')\n",
        "\n",
        "df.dtypes\n",
        "\n",
        "# 2. Number of open complaints has an incorrect format. \n",
        "# Look at the different values it takes with `unique()` and take the middle value. \n",
        "# As an example, 1/5/00 should be 5. \n",
        "# Number of open complaints is a string - remember you can use `split()` to deal with it and take the number you need. \n",
        "# Finally, since it should be numeric, cast the column to be in its proper type.\n",
        "df['number_of_open_complaints'].unique()\n",
        "\n",
        "# Convert column `number_of_open_complaints` to integer\n",
        "# df['number_of_open_complaints'] = df['number_of_open_complaints'].str.split('/').str[1]\n",
        "# df['number_of_open_complaints'] = pd.to_numeric(df['number_of_open_complaints'], errors='coerce').fillna(0).astype('Int64')\n",
        "\n",
        "# df['number_of_open_complaints'].unique()\n"
      ]
    },
    {
      "cell_type": "markdown",
      "id": "14c52e28-2d0c-4dd2-8bd5-3476e34fadc1",
      "metadata": {
        "id": "14c52e28-2d0c-4dd2-8bd5-3476e34fadc1"
      },
      "source": [
        "## Exercise 4: Dealing with Null values"
      ]
    },
    {
      "cell_type": "markdown",
      "id": "34b9a20f-7d32-4417-975e-1b4dfb0e16cd",
      "metadata": {
        "id": "34b9a20f-7d32-4417-975e-1b4dfb0e16cd"
      },
      "source": [
        "Identify any columns with null or missing values. Identify how many null values each column has. You can use the `isnull()` function in pandas to find columns with null values.\n",
        "\n",
        "Decide on a strategy for handling the null values. There are several options, including:\n",
        "\n",
        "- Drop the rows or columns with null values\n",
        "- Fill the null values with a specific value (such as the column mean or median for numerical variables, and mode for categorical variables)\n",
        "- Fill the null values with the previous or next value in the column\n",
        "- Fill the null values based on a more complex algorithm or model (note: we haven't covered this yet)\n",
        "\n",
        "Implement your chosen strategy to handle the null values. You can use the `fillna()` function in pandas to fill null values or `dropna()` function to drop null values.\n",
        "\n",
        "Verify that your strategy has successfully handled the null values. You can use the `isnull()` function again to check if there are still null values in the dataset.\n",
        "\n",
        "Remember to document your process and explain your reasoning for choosing a particular strategy for handling null values.\n",
        "\n",
        "After formatting data types, as a last step, convert all the numeric variables to integers."
      ]
    },
    {
      "cell_type": "code",
      "execution_count": 4,
      "id": "f184fc35-7831-4836-a0a5-e7f99e01b40e",
      "metadata": {
        "id": "f184fc35-7831-4836-a0a5-e7f99e01b40e"
      },
      "outputs": [
        {
          "name": "stdout",
          "output_type": "stream",
          "text": [
            "Valores nulos por columna:\n",
            "customer                     2937\n",
            "state                        2937\n",
            "gender                       3054\n",
            "education                    2937\n",
            "customer_lifetime_value      2940\n",
            "income                       2937\n",
            "monthly_premium_auto         2937\n",
            "number_of_open_complaints    2937\n",
            "policy_type                  2937\n",
            "vehicle_class                2937\n",
            "total_claim_amount           2937\n",
            "dtype: int64\n",
            "\n",
            "Valores nulos después de la limpieza:\n",
            "customer                     0\n",
            "state                        0\n",
            "gender                       0\n",
            "education                    0\n",
            "customer_lifetime_value      0\n",
            "income                       0\n",
            "monthly_premium_auto         0\n",
            "number_of_open_complaints    0\n",
            "policy_type                  0\n",
            "vehicle_class                0\n",
            "total_claim_amount           0\n",
            "dtype: int64\n",
            "\n",
            "Tipos de datos después de la conversión:\n",
            "customer                     object\n",
            "state                        object\n",
            "gender                       object\n",
            "education                    object\n",
            "customer_lifetime_value       int32\n",
            "income                        int32\n",
            "monthly_premium_auto          int32\n",
            "number_of_open_complaints    object\n",
            "policy_type                  object\n",
            "vehicle_class                object\n",
            "total_claim_amount            int32\n",
            "dtype: object\n"
          ]
        }
      ],
      "source": [
        "# 1. Identificar columnas con valores nulos y contar cuántos hay en cada una\n",
        "null_values = df.isnull().sum()\n",
        "print(\"Valores nulos por columna:\")\n",
        "print(null_values[null_values > 0])\n",
        "\n",
        "# 2. Decidir estrategia para manejar valores nulos\n",
        "# Estrategia:\n",
        "# - Para columnas numéricas, se rellenan con la mediana de la columna.\n",
        "# - Para columnas categóricas, se rellenan con la moda (valor más frecuente).\n",
        "# Use fn fillna_columns from functions.py\n",
        "from functions import fillna_columns\n",
        "fillna_columns(df)\n",
        "\n",
        "# 3. Verificar que ya no hay valores nulos\n",
        "print(\"\\nValores nulos después de la limpieza:\")\n",
        "print(df.isnull().sum())\n",
        "\n",
        "# 4. Convertir todas las variables numéricas a enteros\n",
        "numeric_columns = df.select_dtypes(include=['float64', 'int64']).columns\n",
        "df[numeric_columns] = df[numeric_columns].astype(int)\n",
        "\n",
        "# Mostrar el dataframe con los cambios aplicados\n",
        "print(\"\\nTipos de datos después de la conversión:\")\n",
        "print(df.dtypes)\n",
        "\n",
        "# Guardar el dataset limpio (opcional)\n",
        "df.to_csv('data/processed/file1_cleaned.csv', index=False)"
      ]
    },
    {
      "cell_type": "markdown",
      "id": "98416351-e999-4156-9834-9b00a311adfa",
      "metadata": {
        "id": "98416351-e999-4156-9834-9b00a311adfa"
      },
      "source": [
        "## Exercise 5: Dealing with duplicates"
      ]
    },
    {
      "cell_type": "markdown",
      "id": "ea0816a7-a18e-4d4c-b667-a8452a800bd1",
      "metadata": {
        "id": "ea0816a7-a18e-4d4c-b667-a8452a800bd1"
      },
      "source": [
        "Use the `.duplicated()` method to identify any duplicate rows in the dataframe.\n",
        "\n",
        "Decide on a strategy for handling the duplicates. Options include:\n",
        "- Dropping all duplicate rows\n",
        "- Keeping only the first occurrence of each duplicated row\n",
        "- Keeping only the last occurrence of each duplicated row\n",
        "- Dropping duplicates based on a subset of columns\n",
        "- Dropping duplicates based on a specific column\n",
        "\n",
        "Implement your chosen strategy using the `drop_duplicates()` function.\n",
        "\n",
        "Verify that your strategy has successfully handled the duplicates by checking for duplicates again using `.duplicated()`.\n",
        "\n",
        "Remember to document your process and explain your reasoning for choosing a particular strategy for handling duplicates.\n",
        "\n",
        "Save the cleaned dataset to a new CSV file.\n",
        "\n",
        "*Hint*: *after dropping duplicates, reset the index to ensure consistency*."
      ]
    },
    {
      "cell_type": "code",
      "execution_count": 5,
      "id": "1929362c-47ed-47cb-baca-358b78d401a0",
      "metadata": {
        "id": "1929362c-47ed-47cb-baca-358b78d401a0"
      },
      "outputs": [
        {
          "name": "stdout",
          "output_type": "stream",
          "text": [
            "Número de filas duplicadas: 2936\n",
            "Número de filas duplicadas después de limpieza: 0\n",
            "El dataset ha sido limpiado de duplicados y guardado como 'file1_no_duplicates.csv'.\n",
            "(1072, 11)\n"
          ]
        }
      ],
      "source": [
        "# 1. Identificar filas duplicadas\n",
        "num_duplicates = df.duplicated().sum()\n",
        "print(f\"Número de filas duplicadas: {num_duplicates}\")\n",
        "\n",
        "# 2. Estrategia para manejar duplicados:\n",
        "# - Se eliminan todas las filas duplicadas, manteniendo solo la primera ocurrencia.\n",
        "# - Esto ayuda a evitar datos repetidos que podrían distorsionar los análisis.\n",
        "\n",
        "df = df.drop_duplicates(keep='first')\n",
        "\n",
        "# 3. Verificar que ya no haya duplicados\n",
        "num_duplicates_after = df.duplicated().sum()\n",
        "print(f\"Número de filas duplicadas después de limpieza: {num_duplicates_after}\")\n",
        "\n",
        "# 4. Reiniciar el índice para mantener coherencia\n",
        "df.reset_index(drop=True, inplace=True)\n",
        "\n",
        "# 5. Guardar el dataset limpio sin duplicados\n",
        "df.to_csv('data/processed/file1_no_duplicates.csv', index=False)\n",
        "\n",
        "# Mostrar mensaje de confirmación\n",
        "print(\"El dataset ha sido limpiado de duplicados y guardado como 'file1_no_duplicates.csv'.\")\n",
        "\n",
        "# Muestra el tamaño \"shape\" del dataframe tras la eliminación de duplicados -> pasa de 4010 a 1072 filas\n",
        "print(df.shape)  # (1072, 11)\n"
      ]
    },
    {
      "cell_type": "markdown",
      "id": "60840701-4783-40e2-b4d8-55303f9100c9",
      "metadata": {
        "id": "60840701-4783-40e2-b4d8-55303f9100c9"
      },
      "source": [
        "# Bonus: Challenge 2: creating functions on a separate `py` file"
      ]
    },
    {
      "cell_type": "markdown",
      "id": "9d1adb3a-17cf-4899-8041-da21a4337fb4",
      "metadata": {
        "id": "9d1adb3a-17cf-4899-8041-da21a4337fb4"
      },
      "source": [
        "Put all the data cleaning and formatting steps into functions, and create a main function that performs all the cleaning and formatting.\n",
        "\n",
        "Write these functions in separate .py file(s). By putting these steps into functions, we can make the code more modular and easier to maintain."
      ]
    },
    {
      "cell_type": "markdown",
      "id": "0e170dc2-b62c-417a-8248-e63ed18a70c4",
      "metadata": {
        "id": "0e170dc2-b62c-417a-8248-e63ed18a70c4"
      },
      "source": [
        "*Hint: autoreload module is a utility module in Python that allows you to automatically reload modules in the current session when changes are made to the source code. This can be useful in situations where you are actively developing code and want to see the effects of changes you make without having to constantly restart the Python interpreter or Jupyter Notebook kernel.*"
      ]
    },
    {
      "cell_type": "code",
      "execution_count": null,
      "id": "a52c6dfc-cd11-4d01-bda4-f719fa33e9a4",
      "metadata": {
        "id": "a52c6dfc-cd11-4d01-bda4-f719fa33e9a4"
      },
      "outputs": [],
      "source": [
        "# Your code here: see file functions.py"
      ]
    },
    {
      "cell_type": "markdown",
      "id": "80f846bb-3f5e-4ca2-96c0-900728daca5a",
      "metadata": {
        "id": "80f846bb-3f5e-4ca2-96c0-900728daca5a",
        "tags": []
      },
      "source": [
        "# Bonus: Challenge 3: Analyzing Clean and Formated Data"
      ]
    },
    {
      "cell_type": "markdown",
      "id": "9021630e-cc90-446c-b5bd-264d6c864207",
      "metadata": {
        "id": "9021630e-cc90-446c-b5bd-264d6c864207"
      },
      "source": [
        "You have been tasked with analyzing the data to identify potential areas for improving customer retention and profitability. Your goal is to identify customers with a high policy claim amount and a low customer lifetime value.\n",
        "\n",
        "In the Pandas Lab, we only looked at high policy claim amounts because we couldn't look into low customer lifetime values. If we had tried to work with that column, we wouldn't have been able to because customer lifetime value wasn't clean and in its proper format. So after cleaning and formatting the data, let's get some more interesting insights!\n",
        "\n",
        "Instructions:\n",
        "\n",
        "- Review the statistics again for total claim amount and customer lifetime value to gain an understanding of the data.\n",
        "- To identify potential areas for improving customer retention and profitability, we want to focus on customers with a high policy claim amount and a low customer lifetime value. Consider customers with a high policy claim amount to be those in the top 25% of the total claim amount, and clients with a low customer lifetime value to be those in the bottom 25% of the customer lifetime value. Create a pandas DataFrame object that contains information about customers with a policy claim amount greater than the 75th percentile and a customer lifetime value in the bottom 25th percentile.\n",
        "- Use DataFrame methods to calculate summary statistics about the high policy claim amount and low customer lifetime value data. To do so, select both columns of the dataframe simultaneously and pass it to the `.describe()` method. This will give you descriptive statistics, such as mean, median, standard deviation, minimum and maximum values for both columns at the same time, allowing you to compare and analyze their characteristics."
      ]
    },
    {
      "cell_type": "code",
      "execution_count": null,
      "id": "211e82b5-461a-4d6f-8a23-4deccb84173c",
      "metadata": {
        "id": "211e82b5-461a-4d6f-8a23-4deccb84173c"
      },
      "outputs": [
        {
          "name": "stdout",
          "output_type": "stream",
          "text": [
            "       total_claim_amount  customer_lifetime_value\n",
            "count         1072.000000             1.072000e+03\n",
            "mean           404.481343             7.929229e+05\n",
            "std            292.909076             6.423980e+05\n",
            "min              0.000000             2.004350e+05\n",
            "25%            201.750000             4.054045e+05\n",
            "50%            354.000000             5.881740e+05\n",
            "75%            532.000000             8.937668e+05\n",
            "max           2893.000000             5.816655e+06\n"
          ]
        }
      ],
      "source": [
        "# 1. Review the statistics again for total claim amount and customer lifetime value to gain an understanding of the data.\n",
        "\n",
        "import pandas as pd\n",
        "\n",
        "# Load the cleaned data\n",
        "df = pd.read_csv('data/processed/file1_no_duplicates.csv')\n",
        "\n",
        "# Review statistics for total_claim_amount and customer_lifetime_value\n",
        "statistics = df[['total_claim_amount', 'customer_lifetime_value']].describe()\n",
        "print(statistics)"
      ]
    },
    {
      "cell_type": "code",
      "execution_count": 9,
      "id": "a5ecf1e4",
      "metadata": {},
      "outputs": [
        {
          "name": "stdout",
          "output_type": "stream",
          "text": [
            "     customer       state gender             education  \\\n",
            "17    OE15005  California      F               College   \n",
            "23    TZ98966      Nevada      F              Bachelor   \n",
            "26    US89481  California      F              Bachelor   \n",
            "38    CM61827      Oregon      F              Bachelor   \n",
            "42    IL19217  California      F              Bachelor   \n",
            "62    FG63582      Oregon      F              Bachelor   \n",
            "135   MS41162     Arizona      F  High School or Below   \n",
            "140   DS81757      Oregon      M               College   \n",
            "158   KA61892     Arizona      M               College   \n",
            "160   ND87334  California      M  High School or Below   \n",
            "170   TS19868  California      M               College   \n",
            "184   AB13432  California      M              Bachelor   \n",
            "204   FL34139  California      M  High School or Below   \n",
            "250   IA63417     Arizona      F  High School or Below   \n",
            "269   VZ51506     Arizona      F  High School or Below   \n",
            "279   OH60605      Oregon      F  High School or Below   \n",
            "304   RR77985      Oregon      F              Bachelor   \n",
            "388   JF36291  California      M               College   \n",
            "415   ZF84449      Oregon      F               College   \n",
            "448   NL93182      Nevada      M              Bachelor   \n",
            "450   WE68644      Oregon      F              Bachelor   \n",
            "467   AU96286      Oregon      F              Bachelor   \n",
            "486   FY51713     Arizona      F              Bachelor   \n",
            "500   XN11823      Nevada      F              Bachelor   \n",
            "502   PX17116      Nevada      M               College   \n",
            "565   XS12556  California      F               College   \n",
            "590   UK41984     Arizona      F                Doctor   \n",
            "593   ZK21724      Oregon      F  High School or Below   \n",
            "638   DM95829  California      M               College   \n",
            "645   JA41698      Nevada      M              Bachelor   \n",
            "669   ED50963  California      F  High School or Below   \n",
            "709   NZ15548      Oregon      M              Bachelor   \n",
            "788   TE13577      Oregon      F               College   \n",
            "853   TV25678  Washington      M               College   \n",
            "891   KJ87930  California      F              Bachelor   \n",
            "908   XM72420     Arizona      F  High School or Below   \n",
            "949   TD10493      Oregon      F  High School or Below   \n",
            "1019  OT52034  California      M              Bachelor   \n",
            "1022  UI73201  California      M               College   \n",
            "1068  GS98873     Arizona      F              Bachelor   \n",
            "\n",
            "      customer_lifetime_value  income  monthly_premium_auto  \\\n",
            "17                     394524   28855                   101   \n",
            "23                     245019       0                    73   \n",
            "26                     394637       0                   111   \n",
            "38                     309003       0                    90   \n",
            "42                     393900   60021                    99   \n",
            "62                     333976       0                    94   \n",
            "135                    402296       0                   117   \n",
            "140                    247012       0                    74   \n",
            "158                    387364   28142                   105   \n",
            "160                    228759       0                    63   \n",
            "170                    241313   27501                    63   \n",
            "184                    373583       0                   110   \n",
            "204                    368811       0                    63   \n",
            "250                    400151   19782                   108   \n",
            "269                    359531       0                   103   \n",
            "279                    365253   39679                    92   \n",
            "304                    288774       0                    80   \n",
            "388                    387364   28142                   105   \n",
            "415                    372672       0                   112   \n",
            "448                    254945       0                    78   \n",
            "450                    380392   20325                   100   \n",
            "467                    316765       0                    92   \n",
            "486                    357076   56168                    88   \n",
            "500                    376446   92600                    94   \n",
            "502                    362345       0                   111   \n",
            "565                    368309       0                   101   \n",
            "590                    383960       0                   112   \n",
            "593                    401654       0                   111   \n",
            "638                    252395   16244                    68   \n",
            "645                    309953       0                   102   \n",
            "669                    268886   32808                    68   \n",
            "709                    402381   41833                   103   \n",
            "788                    231973       0                    64   \n",
            "853                    354090       0                   101   \n",
            "891                    388650       0                   112   \n",
            "908                    391936   66676                    97   \n",
            "949                    289873       0                    96   \n",
            "1019                   386477   24204                    99   \n",
            "1022                   366737   62375                    92   \n",
            "1068                   323912   16061                    88   \n",
            "\n",
            "     number_of_open_complaints     policy_type  vehicle_class  \\\n",
            "17                      1/0/00   Personal Auto            SUV   \n",
            "23                      1/3/00  Corporate Auto  Four-Door Car   \n",
            "26                      1/0/00   Personal Auto  Four-Door Car   \n",
            "38                      1/0/00   Personal Auto   Two-Door Car   \n",
            "42                      1/0/00   Personal Auto  Four-Door Car   \n",
            "62                      1/0/00   Personal Auto   Two-Door Car   \n",
            "135                     1/0/00   Personal Auto            SUV   \n",
            "140                     1/0/00   Personal Auto   Two-Door Car   \n",
            "158                     1/0/00   Personal Auto         Luxury   \n",
            "160                     1/0/00  Corporate Auto   Two-Door Car   \n",
            "170                     1/0/00   Personal Auto  Four-Door Car   \n",
            "184                     1/0/00   Personal Auto            SUV   \n",
            "204                     1/3/00   Personal Auto  Four-Door Car   \n",
            "250                     1/0/00   Personal Auto   Two-Door Car   \n",
            "269                     1/0/00  Corporate Auto         Luxury   \n",
            "279                     1/0/00   Personal Auto   Two-Door Car   \n",
            "304                     1/0/00   Personal Auto  Four-Door Car   \n",
            "388                     1/0/00   Personal Auto         Luxury   \n",
            "415                     1/1/00    Special Auto         Luxury   \n",
            "448                     1/0/00  Corporate Auto  Four-Door Car   \n",
            "450                     1/0/00   Personal Auto         Luxury   \n",
            "467                     1/0/00  Corporate Auto  Four-Door Car   \n",
            "486                     1/0/00   Personal Auto  Four-Door Car   \n",
            "500                     1/0/00  Corporate Auto   Two-Door Car   \n",
            "502                     1/2/00  Corporate Auto            SUV   \n",
            "565                     1/0/00  Corporate Auto         Luxury   \n",
            "590                     1/2/00   Personal Auto            SUV   \n",
            "593                     1/0/00   Personal Auto            SUV   \n",
            "638                     1/0/00   Personal Auto   Two-Door Car   \n",
            "645                     1/5/00  Corporate Auto            SUV   \n",
            "669                     1/1/00   Personal Auto  Four-Door Car   \n",
            "709                     1/0/00   Personal Auto  Four-Door Car   \n",
            "788                     1/0/00   Personal Auto  Four-Door Car   \n",
            "853                     1/0/00   Personal Auto            SUV   \n",
            "891                     1/0/00  Corporate Auto            SUV   \n",
            "908                     1/0/00   Personal Auto  Four-Door Car   \n",
            "949                     1/4/00   Personal Auto  Four-Door Car   \n",
            "1019                    1/1/00   Personal Auto  Four-Door Car   \n",
            "1022                    1/0/00   Personal Auto   Two-Door Car   \n",
            "1068                    1/0/00   Personal Auto  Four-Door Car   \n",
            "\n",
            "      total_claim_amount  \n",
            "17                   647  \n",
            "23                   554  \n",
            "26                   799  \n",
            "38                   648  \n",
            "42                   882  \n",
            "62                   863  \n",
            "135                  975  \n",
            "140                  721  \n",
            "158                  701  \n",
            "160                  679  \n",
            "170                  542  \n",
            "184                  792  \n",
            "204                  669  \n",
            "250                  773  \n",
            "269                  741  \n",
            "279                  641  \n",
            "304                  676  \n",
            "388                  701  \n",
            "415                  806  \n",
            "448                  845  \n",
            "450                  668  \n",
            "467                  662  \n",
            "486                  614  \n",
            "500                  842  \n",
            "502                 1171  \n",
            "565                  564  \n",
            "590                  537  \n",
            "593                  799  \n",
            "638                  623  \n",
            "645                  862  \n",
            "669                  541  \n",
            "709                  643  \n",
            "788                  632  \n",
            "853                  727  \n",
            "891                 1185  \n",
            "908                  558  \n",
            "949                  691  \n",
            "1019                 707  \n",
            "1022                 618  \n",
            "1068                 633  \n"
          ]
        }
      ],
      "source": [
        "# 2. To identify potential areas for improving customer retention and profitability, we want to focus on customers with a high policy claim amount and a low customer lifetime value. \n",
        "# Consider customers with a high policy claim amount to be those in the top 25% of the total claim amount, and clients with a low customer lifetime value to be those in the bottom 25% of the customer lifetime value. \n",
        "# Create a pandas DataFrame object that contains information about customers with a policy claim amount greater than the 75th percentile and a customer lifetime value in the bottom 25th percentile.\n",
        "\n",
        "import pandas as pd\n",
        "\n",
        "# Load the cleaned data\n",
        "df = pd.read_csv('data/processed/file1_no_duplicates.csv')\n",
        "\n",
        "# Calculate the 75th percentile for total_claim_amount and the 25th percentile for customer_lifetime_value\n",
        "claim_amount_75th = df['total_claim_amount'].quantile(0.75)\n",
        "lifetime_value_25th = df['customer_lifetime_value'].quantile(0.25)\n",
        "\n",
        "# Filter the DataFrame\n",
        "filtered_df = df[(df['total_claim_amount'] > claim_amount_75th) & (df['customer_lifetime_value'] < lifetime_value_25th)]\n",
        "\n",
        "# Display the filtered DataFrame\n",
        "print(filtered_df)"
      ]
    },
    {
      "cell_type": "code",
      "execution_count": 10,
      "id": "d86ffd0c",
      "metadata": {},
      "outputs": [
        {
          "name": "stdout",
          "output_type": "stream",
          "text": [
            "       total_claim_amount  customer_lifetime_value\n",
            "count           40.000000                40.000000\n",
            "mean           723.300000            341577.425000\n",
            "std            149.216449             56921.466178\n",
            "min            537.000000            228759.000000\n",
            "25%            632.750000            304220.500000\n",
            "50%            685.000000            365995.000000\n",
            "75%            799.000000            387364.000000\n",
            "max           1185.000000            402381.000000\n"
          ]
        }
      ],
      "source": [
        "# 3. Use DataFrame methods to calculate summary statistics about the high policy claim amount and low customer lifetime value data. \n",
        "# To do so, select both columns of the dataframe simultaneously and pass it to the `.describe()` method. \n",
        "# This will give you descriptive statistics, such as mean, median, standard deviation, minimum and maximum values for both columns at the same time, allowing you to compare and analyze their characteristics.\n",
        "\n",
        "import pandas as pd\n",
        "\n",
        "# Load the cleaned data\n",
        "df = pd.read_csv('data/processed/file1_no_duplicates.csv')\n",
        "\n",
        "# Calculate the 75th percentile for total_claim_amount and the 25th percentile for customer_lifetime_value\n",
        "claim_amount_75th = df['total_claim_amount'].quantile(0.75)\n",
        "lifetime_value_25th = df['customer_lifetime_value'].quantile(0.25)\n",
        "\n",
        "# Filter the DataFrame\n",
        "filtered_df = df[(df['total_claim_amount'] > claim_amount_75th) & (df['customer_lifetime_value'] < lifetime_value_25th)]\n",
        "\n",
        "# Calculate summary statistics for the filtered data\n",
        "summary_statistics = filtered_df[['total_claim_amount', 'customer_lifetime_value']].describe()\n",
        "\n",
        "# Display the summary statistics\n",
        "print(summary_statistics)"
      ]
    }
  ],
  "metadata": {
    "colab": {
      "provenance": []
    },
    "kernelspec": {
      "display_name": "base",
      "language": "python",
      "name": "python3"
    },
    "language_info": {
      "codemirror_mode": {
        "name": "ipython",
        "version": 3
      },
      "file_extension": ".py",
      "mimetype": "text/x-python",
      "name": "python",
      "nbconvert_exporter": "python",
      "pygments_lexer": "ipython3",
      "version": "3.12.7"
    }
  },
  "nbformat": 4,
  "nbformat_minor": 5
}
